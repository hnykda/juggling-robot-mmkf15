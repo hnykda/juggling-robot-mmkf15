{
 "cells": [
  {
   "cell_type": "markdown",
   "metadata": {},
   "source": [
    "# Simulation"
   ]
  },
  {
   "cell_type": "code",
   "execution_count": 1,
   "metadata": {
    "collapsed": false
   },
   "outputs": [],
   "source": [
    "# some necessary imports\n",
    "import pandas as pd\n",
    "import numpy as np\n",
    "import plotly.plotly as py\n",
    "\n",
    "# or functions are stored in utils module\n",
    "from utils import init_veloc, trajectory, move_from_catch_to_new_origin, reverse_trajectory, plot_all, plot_traj"
   ]
  },
  {
   "cell_type": "markdown",
   "metadata": {},
   "source": [
    "# Parameters"
   ]
  },
  {
   "cell_type": "code",
   "execution_count": 2,
   "metadata": {
    "collapsed": false,
    "scrolled": true
   },
   "outputs": [],
   "source": [
    "X_0 = 0 # initial x position in centimetres\n",
    "Y_0 = 50 # initial height in centimetres\n",
    "ALPHA = -np.pi/4 # fire angle (in radians) from x axis - MUST BE NEGATIVE\n",
    "ENERGY_LOSS_RATIO = 0.7 # how much energy is lost because of bounce\n",
    "J = 6.045 # http://scitation.aip.org/content/aapt/journal/tpt/50/5/10.1119/1.3703546\n",
    "MASS = 2.456 \n",
    "R = 1.970\n",
    "\n",
    "# initial speed from bottle\n",
    "LENGTH_OF_BOTTLE = 10 # cm\n",
    "h = LENGTH_OF_BOTTLE * np.sin(-ALPHA)\n",
    "# get initial speed of ball \"poured\" from bottle\n",
    "V_0 = init_veloc(h, J, MASS, R)\n",
    "\n",
    "# specify velocity angle under which we want to catch the ball\n",
    "CATCH_ANGLE = -np.pi/4\n",
    "VELOCITY_OF_ROBOT = 100  # speed of robot in cm/s"
   ]
  },
  {
   "cell_type": "markdown",
   "metadata": {},
   "source": [
    "# Computation"
   ]
  },
  {
   "cell_type": "code",
   "execution_count": 3,
   "metadata": {
    "collapsed": false
   },
   "outputs": [],
   "source": [
    "# select time step and length\n",
    "time_discret = np.arange(0,10,0.01)\n",
    "\n",
    "# get the result for the bounce\n",
    "bounce_traj, info = trajectory(time_discret, X_0, Y_0, V_0, ALPHA, ENERGY_LOSS_RATIO)\n",
    "forward_traj = move_from_catch_to_new_origin(bounce_traj, CATCH_ANGLE, info[\"x_impact_point\"], Y_0, VELOCITY_OF_ROBOT)\n",
    "backward_traj = reverse_trajectory(forward_traj)"
   ]
  },
  {
   "cell_type": "code",
   "execution_count": 16,
   "metadata": {
    "collapsed": false
   },
   "outputs": [],
   "source": [
    "result_df = forward_traj.append(backward_traj)\n",
    "result_df[\"time_diff\"] = result_df.time.diff()\n",
    "result_df[\"time_diff\"].iloc[0] = 0\n",
    "result_df[[\"time_diff\", \"x\",\"y\"]].to_csv(\"trajectory.csv\", header=False, index=False)"
   ]
  },
  {
   "cell_type": "markdown",
   "metadata": {},
   "source": [
    "# Plotting"
   ]
  },
  {
   "cell_type": "code",
   "execution_count": 4,
   "metadata": {
    "collapsed": false
   },
   "outputs": [
    {
     "data": {
      "text/html": [
       "<iframe id=\"igraph\" scrolling=\"no\" style=\"border:none;\"seamless=\"seamless\" src=\"https://plot.ly/~DanielHnyk/404.embed\" height=\"525px\" width=\"100%\"></iframe>"
      ],
      "text/plain": [
       "<plotly.tools.PlotlyDisplay object>"
      ]
     },
     "execution_count": 4,
     "metadata": {},
     "output_type": "execute_result"
    }
   ],
   "source": [
    "py.iplot(plot_all(forward_traj, \"Forward trajectory\"), filename='pandas/forward')"
   ]
  },
  {
   "cell_type": "code",
   "execution_count": 5,
   "metadata": {
    "collapsed": false
   },
   "outputs": [
    {
     "data": {
      "text/html": [
       "<iframe id=\"igraph\" scrolling=\"no\" style=\"border:none;\"seamless=\"seamless\" src=\"https://plot.ly/~DanielHnyk/402.embed\" height=\"525px\" width=\"100%\"></iframe>"
      ],
      "text/plain": [
       "<plotly.tools.PlotlyDisplay object>"
      ]
     },
     "execution_count": 5,
     "metadata": {},
     "output_type": "execute_result"
    }
   ],
   "source": [
    "py.iplot(plot_all(backward_traj, \"Backward trajectory\"), filename='pandas/backward')"
   ]
  },
  {
   "cell_type": "code",
   "execution_count": 6,
   "metadata": {
    "collapsed": false
   },
   "outputs": [
    {
     "data": {
      "text/html": [
       "<iframe id=\"igraph\" scrolling=\"no\" style=\"border:none;\"seamless=\"seamless\" src=\"https://plot.ly/~DanielHnyk/398.embed\" height=\"525px\" width=\"100%\"></iframe>"
      ],
      "text/plain": [
       "<plotly.tools.PlotlyDisplay object>"
      ]
     },
     "execution_count": 6,
     "metadata": {},
     "output_type": "execute_result"
    }
   ],
   "source": [
    "# click on \"Show closest data on hover\" at top right corner to see times\n",
    "py.iplot(plot_traj(forward_traj, backward_traj), filename='pandas/trajectory')"
   ]
  },
  {
   "cell_type": "markdown",
   "metadata": {},
   "source": [
    "# Additional info"
   ]
  },
  {
   "cell_type": "code",
   "execution_count": null,
   "metadata": {
    "collapsed": false
   },
   "outputs": [],
   "source": [
    "info"
   ]
  },
  {
   "cell_type": "markdown",
   "metadata": {},
   "source": [
    "The data for the first impact corresponds to data in this applet: http://www.walter-fendt.de/ph14e/projectile.htm .\n",
    "\n",
    "The second shot can be obtained by following code and corresponds to data from e.g. here: https://phet.colorado.edu/sims/projectile-motion/projectile-motion_en.html"
   ]
  },
  {
   "cell_type": "code",
   "execution_count": null,
   "metadata": {
    "collapsed": false
   },
   "outputs": [],
   "source": [
    "rest = res[res.time >= info['impact_time']].copy()\n",
    "rest.iloc[-1] - rest.iloc[0] "
   ]
  },
  {
   "cell_type": "markdown",
   "metadata": {},
   "source": [
    "Most info is from here:\n",
    "\n",
    "* https://en.wikipedia.org/wiki/Trajectory_of_a_projectile\n",
    "* https://en.wikipedia.org/wiki/Range_of_a_projectile\n",
    "* https://en.wikipedia.org/wiki/Projectile_motion\n",
    "* http://www.maththoughts.com/blog/2013/simple-physics-rolling/ - for ball speed when pouring from bottle"
   ]
  },
  {
   "cell_type": "markdown",
   "metadata": {},
   "source": [
    "# Connection"
   ]
  },
  {
   "cell_type": "code",
   "execution_count": null,
   "metadata": {
    "collapsed": false
   },
   "outputs": [],
   "source": [
    "import socket\n",
    "\n",
    "soc = socket.socket(socket.AF_INET, socket.SOCK_STREAM)  \n",
    "soc.connect((\"127.0.0.1\", 11991))"
   ]
  },
  {
   "cell_type": "code",
   "execution_count": null,
   "metadata": {
    "collapsed": false
   },
   "outputs": [],
   "source": [
    "import time\n",
    "\n",
    "for ix, vals in res[['x','y']].iterrows():\n",
    "    data = \"{}\\t{}\".format(vals[\"x\"],vals[\"y\"])\n",
    "    soc.sendall(data.encode(\"utf8\"))\n",
    "\n",
    "    if soc.recv(4096).decode(\"utf8\") == \"-\":\n",
    "        pass\n",
    "    \n",
    "    time.sleep(0.01)\n",
    "    \n",
    "soc.send(b'--ENDOFDATA--')"
   ]
  },
  {
   "cell_type": "code",
   "execution_count": null,
   "metadata": {
    "collapsed": true
   },
   "outputs": [],
   "source": []
  }
 ],
 "metadata": {
  "kernelspec": {
   "display_name": "Python 3",
   "language": "python",
   "name": "python3"
  },
  "language_info": {
   "codemirror_mode": {
    "name": "ipython",
    "version": 3
   },
   "file_extension": ".py",
   "mimetype": "text/x-python",
   "name": "python",
   "nbconvert_exporter": "python",
   "pygments_lexer": "ipython3",
   "version": "3.4.2"
  }
 },
 "nbformat": 4,
 "nbformat_minor": 0
}
